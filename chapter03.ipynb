{
  "nbformat": 4,
  "nbformat_minor": 0,
  "metadata": {
    "colab": {
      "provenance": [],
      "authorship_tag": "ABX9TyNz+Con4eUkanrUraK4LBgC",
      "include_colab_link": true
    },
    "kernelspec": {
      "name": "python3",
      "display_name": "Python 3"
    },
    "language_info": {
      "name": "python"
    }
  },
  "cells": [
    {
      "cell_type": "markdown",
      "metadata": {
        "id": "view-in-github",
        "colab_type": "text"
      },
      "source": [
        "<a href=\"https://colab.research.google.com/github/ronaldnetawat/deep-learning-with-python-book-codes/blob/master/chapter03.ipynb\" target=\"_parent\"><img src=\"https://colab.research.google.com/assets/colab-badge.svg\" alt=\"Open In Colab\"/></a>"
      ]
    },
    {
      "cell_type": "code",
      "execution_count": 1,
      "metadata": {
        "colab": {
          "base_uri": "https://localhost:8080/"
        },
        "id": "CmQ4l5bu7LR3",
        "outputId": "be8d7493-940a-4c26-f643-e66bbaab472b"
      },
      "outputs": [
        {
          "output_type": "execute_result",
          "data": {
            "text/plain": [
              "[0, 1, 1.3, 2, 2.4, 3]"
            ]
          },
          "metadata": {},
          "execution_count": 1
        }
      ],
      "source": [
        "my_list = [1, 2, 3, 0, 2.4, 1.3]\n",
        "sorted(my_list)"
      ]
    },
    {
      "cell_type": "markdown",
      "source": [
        "# Title\n",
        "\n",
        "## Subtitle\n",
        "\n",
        "Some text\n",
        "\n"
      ],
      "metadata": {
        "id": "lz792YBl7oBs"
      }
    },
    {
      "cell_type": "code",
      "source": [],
      "metadata": {
        "id": "nrhkiKSM7uC_"
      },
      "execution_count": null,
      "outputs": []
    }
  ]
}