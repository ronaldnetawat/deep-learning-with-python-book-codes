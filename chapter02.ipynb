{
 "cells": [
  {
   "cell_type": "code",
   "execution_count": 1,
   "id": "222662c7-9f83-4c00-84b7-c16ef11238ea",
   "metadata": {},
   "outputs": [],
   "source": [
    "import tensorflow as tf"
   ]
  },
  {
   "cell_type": "markdown",
   "id": "32452480-f226-448d-97b1-5a78dad4a601",
   "metadata": {},
   "source": [
    "## A Simple Dense Class"
   ]
  },
  {
   "cell_type": "code",
   "execution_count": 14,
   "id": "8a7d0a91-5dc8-4677-b747-c03f75d112bd",
   "metadata": {},
   "outputs": [],
   "source": [
    "class NaiveDense:\n",
    "    def __init__(self, input_size, output_size, activation):\n",
    "        self.activation = activation\n",
    "\n",
    "        # Weights matrix\n",
    "        w_shape = (input_size, output_size) # A matrix of shape (input_size, output_size)\n",
    "        w_initial_value = tf.random.uniform(w_shape, minval=0, maxval=1e-1) # Initialized with random values\n",
    "        self.W = tf.Variable(w_initial_value) # Declared as a tensor variable using TF\n",
    "    \n",
    "        # Bias vector\n",
    "        b_shape = (output_size,) # Bias rank-1 tensor of output_size\n",
    "        b_initial_value = tf.zeros(b_shape) # Initialized with 0s\n",
    "        self.b = tf.Variable(b_initial_value) # Declared as a tf variable\n",
    "\n",
    "\n",
    "    def __call__(self, inputs): # The forward pass\n",
    "        return self.activation(tf.matmul(inputs, self.W) + self.b)\n",
    "\n",
    "\n",
    "    @property\n",
    "    def weights(self):\n",
    "        return [self.W, self.b] # Just for convenience, to get layer's weights"
   ]
  },
  {
   "cell_type": "markdown",
   "id": "e9233699-fdda-4a2f-ae9a-31f81cd2737a",
   "metadata": {},
   "source": [
    "## A Simple Sequential Class"
   ]
  },
  {
   "cell_type": "code",
   "execution_count": 17,
   "id": "181dab57-e1ad-45ca-ba3f-2638188b1974",
   "metadata": {},
   "outputs": [],
   "source": [
    "class NaiveSequential: # To chain the layers together\n",
    "    def __init__(self, layers):\n",
    "        self.layers = layers\n",
    "\n",
    "    def __call__(self, inputs): # Calls the underlying layers on the inputs in order\n",
    "        x = inputs\n",
    "        for layer in self.layers:\n",
    "            x = layer(x)\n",
    "        return x # Returns the final output\n",
    "\n",
    "    @property\n",
    "    def weights(self): # For convenience to get the layers' weights\n",
    "        weights = []\n",
    "        for layer in self.layers:\n",
    "            weights += layer.weights\n",
    "        return weights"
   ]
  },
  {
   "cell_type": "markdown",
   "id": "64006e04-73f3-4064-a5b7-68255a6b125b",
   "metadata": {},
   "source": [
    "## Using NaiveDense and NaiveSequential to create a mock Keras model"
   ]
  },
  {
   "cell_type": "code",
   "execution_count": 20,
   "id": "8ed4f0ec-a646-412c-8fa1-b543b8551093",
   "metadata": {},
   "outputs": [],
   "source": [
    "model = NaiveSequential([\n",
    "    NaiveDense(input_size=28 * 28, output_size=512, activation=tf.nn.relu), # First dense layer\n",
    "    NaiveDense(input_size=512, output_size=10, activation=tf.nn.softmax) # Second (and final) dense layer\n",
    "])\n",
    "\n",
    "assert len(model.weights) == 4 # Make sure that the model has 4 weight vectors"
   ]
  },
  {
   "cell_type": "markdown",
   "id": "32f95d47-aa4b-4d89-8269-bbc35c1c013c",
   "metadata": {},
   "source": [
    "## Creating a Batch generator"
   ]
  },
  {
   "cell_type": "code",
   "execution_count": 23,
   "id": "735f37d5-27f3-44a2-9cfb-1a0775e3b432",
   "metadata": {},
   "outputs": [],
   "source": [
    "import math\n",
    "\n",
    "class BatchGenerator:\n",
    "    def __init__(self, images, labels, batch_size=128):\n",
    "        assert len(images) == len(labels)\n",
    "        self.index = 0\n",
    "        self.images = images\n",
    "        self.labels = labels\n",
    "        self.batch_size = batch_size\n",
    "        self.num_batches = math.ceil(len(images)/batch_size)\n",
    "\n",
    "    def next(self):\n",
    "        images = self.images[self.index : self.index + self.batch_size]\n",
    "        labels = self.labels[self.index : self.index + self.batch_size]\n",
    "        self.index += self.batch_size\n",
    "        return images, labels"
   ]
  },
  {
   "cell_type": "markdown",
   "id": "b95914dc-918b-493c-99d6-0591832d6929",
   "metadata": {},
   "source": [
    "## Running One Training Step\n",
    "- Compute the predictions of the model for the images in the batch\n",
    "- Compute the loss value for these predictions, given the actual labels\n",
    "- Compute the gradient of the loss w.r.t. the weights\n",
    "- Update the weight values by a small amount in the opposite direction of the gradient"
   ]
  },
  {
   "cell_type": "code",
   "execution_count": 51,
   "id": "3938e145-9058-4e50-832d-8dc63ef1f6ca",
   "metadata": {},
   "outputs": [],
   "source": [
    "# Use TensorFlow's GradientTape object to compute the gradient\n",
    "def one_training_step(model, images_batch, labels_batch):\n",
    "    with tf.GradientTape() as tape: # Running the forward pass\n",
    "        predictions = model(images_batch)\n",
    "        per_sample_losses = tf.keras.losses.sparse_categorical_crossentropy(labels_batch, predictions)\n",
    "        average_loss = tf.reduce_mean(per_sample_losses)\n",
    "    gradients = tape.gradient(average_loss, model.weights) # Compute the  gradient of loss w.r.t. weights\n",
    "    update_weights(gradients, model.weights) # Update the weights according to the gradients\n",
    "    return average_loss"
   ]
  },
  {
   "cell_type": "code",
   "execution_count": 53,
   "id": "33414ebc-1258-408c-88c4-f8eb352218f5",
   "metadata": {},
   "outputs": [],
   "source": [
    "learning_rate = 1e-3\n",
    "\n",
    "def update_weights(gradients, weights):\n",
    "    for g, w in zip(gradients, weights):\n",
    "        w.assign_sub(g * learning_rate) # assign_sub is the equivalent of -= for TF variables\n",
    "\n",
    "# In practice, we would never write this update_weights func by hand, we would use an Optimizer instance from Keras like:\n",
    "\n",
    "# from tensorflow.keras import optimizers\n",
    "\n",
    "# optimizer = optimizers.SGD(learning_rate=1e-3)\n",
    "        \n",
    "# def update_weights(gradients, weights):\n",
    "#     optimizer.apply_gradients(zip(gradients, weights))"
   ]
  },
  {
   "cell_type": "markdown",
   "id": "d44dcb95-8dab-4bd3-bbb7-d3830856005f",
   "metadata": {},
   "source": [
    "## The Full Training Loop\n",
    "\n",
    "- An epoch: repeating the training step for each batch in the training data\n",
    "- Full training loop: the repitition of one epoch"
   ]
  },
  {
   "cell_type": "code",
   "execution_count": 56,
   "id": "e0b2d47c-0dbb-402a-95ae-eb227cf03ecc",
   "metadata": {},
   "outputs": [],
   "source": [
    "def fit(model, images, labels, epochs, batch_size=128):\n",
    "    for epoch_counter in range(epochs):\n",
    "        print(f\"Epoch {epoch_counter}\")\n",
    "        batch_generator = BatchGenerator(images, labels)\n",
    "        for batch_counter in range(batch_generator.num_batches):\n",
    "            images_batch, labels_batch = batch_generator.next()\n",
    "            loss = one_training_step(model, images_batch, labels_batch)\n",
    "            if batch_counter % 100 == 0:\n",
    "                print(f\"Loss at batch {batch_counter}: {loss:.2f}\")"
   ]
  },
  {
   "cell_type": "markdown",
   "id": "0da4e581-f6b5-4f4e-a4a7-3e48edafe94d",
   "metadata": {},
   "source": [
    "## Testing the model"
   ]
  },
  {
   "cell_type": "code",
   "execution_count": 59,
   "id": "85d6ec66-4042-4602-ae85-7ef654f9bdd2",
   "metadata": {},
   "outputs": [
    {
     "name": "stdout",
     "output_type": "stream",
     "text": [
      "Epoch 0\n",
      "Loss at batch 0: 5.75\n",
      "Loss at batch 100: 2.26\n",
      "Loss at batch 200: 2.26\n",
      "Loss at batch 300: 2.11\n",
      "Loss at batch 400: 2.26\n",
      "Epoch 1\n",
      "Loss at batch 0: 1.95\n",
      "Loss at batch 100: 1.89\n",
      "Loss at batch 200: 1.87\n",
      "Loss at batch 300: 1.73\n",
      "Loss at batch 400: 1.85\n",
      "Epoch 2\n",
      "Loss at batch 0: 1.62\n",
      "Loss at batch 100: 1.59\n",
      "Loss at batch 200: 1.54\n",
      "Loss at batch 300: 1.43\n",
      "Loss at batch 400: 1.52\n",
      "Epoch 3\n",
      "Loss at batch 0: 1.35\n",
      "Loss at batch 100: 1.35\n",
      "Loss at batch 200: 1.27\n",
      "Loss at batch 300: 1.21\n",
      "Loss at batch 400: 1.28\n",
      "Epoch 4\n",
      "Loss at batch 0: 1.15\n",
      "Loss at batch 100: 1.16\n",
      "Loss at batch 200: 1.06\n",
      "Loss at batch 300: 1.05\n",
      "Loss at batch 400: 1.11\n",
      "Epoch 5\n",
      "Loss at batch 0: 1.00\n",
      "Loss at batch 100: 1.02\n",
      "Loss at batch 200: 0.92\n",
      "Loss at batch 300: 0.92\n",
      "Loss at batch 400: 0.98\n",
      "Epoch 6\n",
      "Loss at batch 0: 0.88\n",
      "Loss at batch 100: 0.91\n",
      "Loss at batch 200: 0.82\n",
      "Loss at batch 300: 0.83\n",
      "Loss at batch 400: 0.89\n",
      "Epoch 7\n",
      "Loss at batch 0: 0.80\n",
      "Loss at batch 100: 0.83\n",
      "Loss at batch 200: 0.74\n",
      "Loss at batch 300: 0.76\n",
      "Loss at batch 400: 0.82\n",
      "Epoch 8\n",
      "Loss at batch 0: 0.73\n",
      "Loss at batch 100: 0.76\n",
      "Loss at batch 200: 0.67\n",
      "Loss at batch 300: 0.71\n",
      "Loss at batch 400: 0.77\n",
      "Epoch 9\n",
      "Loss at batch 0: 0.68\n",
      "Loss at batch 100: 0.70\n",
      "Loss at batch 200: 0.62\n",
      "Loss at batch 300: 0.66\n",
      "Loss at batch 400: 0.73\n"
     ]
    }
   ],
   "source": [
    "from tensorflow.keras.datasets import mnist # Importing the MNIST dataset\n",
    "(train_images, train_labels), (test_images, test_labels) = mnist.load_data() # Loading the training and testing data\n",
    "\n",
    "train_images = train_images.reshape((60000, 28 * 28)) # Reshaping the image tensor\n",
    "train_images = train_images.astype(\"float32\") / 255 # Changing the datatype\n",
    "test_images = test_images.reshape((10000, 28 * 28)) # Reshaping the image tensor\n",
    "test_images = test_images.astype(\"float32\") / 255 # Changing the datatype\n",
    "\n",
    "fit(model, train_images, train_labels, epochs=10, batch_size=128)"
   ]
  },
  {
   "cell_type": "markdown",
   "id": "fdf473c6-2476-4b3e-8b5a-996cc1427d0e",
   "metadata": {},
   "source": [
    "## Evaluating the model\n",
    "Can evaluate the model by taking the argmax of its predictions over the test images, and comparing it to the expected labels."
   ]
  },
  {
   "cell_type": "code",
   "execution_count": 64,
   "id": "c5af69c9-0ec6-4fda-acee-9b6b6c0ebe6a",
   "metadata": {},
   "outputs": [
    {
     "name": "stdout",
     "output_type": "stream",
     "text": [
      "Accuracy: 0.82\n"
     ]
    }
   ],
   "source": [
    "import numpy as np\n",
    "\n",
    "predictions = model(test_images)\n",
    "predictions = predictions.numpy() # Converts TF tensor to NumPy tensor\n",
    "predicted_labels = np.argmax(predictions, axis=1)\n",
    "matches = predicted_labels == test_labels\n",
    "print(f\"Accuracy: {matches.mean():.2f}\")"
   ]
  },
  {
   "cell_type": "code",
   "execution_count": null,
   "id": "22e07919-9d9c-4c43-ab07-c974ad95c85c",
   "metadata": {},
   "outputs": [],
   "source": []
  }
 ],
 "metadata": {
  "kernelspec": {
   "display_name": "Python 3 (ipykernel)",
   "language": "python",
   "name": "python3"
  },
  "language_info": {
   "codemirror_mode": {
    "name": "ipython",
    "version": 3
   },
   "file_extension": ".py",
   "mimetype": "text/x-python",
   "name": "python",
   "nbconvert_exporter": "python",
   "pygments_lexer": "ipython3",
   "version": "3.12.7"
  }
 },
 "nbformat": 4,
 "nbformat_minor": 5
}
